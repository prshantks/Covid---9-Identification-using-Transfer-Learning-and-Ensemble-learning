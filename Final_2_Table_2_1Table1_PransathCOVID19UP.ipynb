{
  "cells": [
    {
      "cell_type": "code",
      "execution_count": null,
      "metadata": {
        "colab": {
          "base_uri": "https://localhost:8080/"
        },
        "id": "7u579umYycZy",
        "outputId": "99934460-8f77-47bf-ef3c-a7dcffeac27c"
      },
      "outputs": [
        {
          "output_type": "stream",
          "name": "stdout",
          "text": [
            "Mounted at /content/drive\n"
          ]
        }
      ],
      "source": [
        "from google.colab import drive\n",
        "drive.mount('/content/drive')\n",
        "path='/content/drive/MyDrive/trymodel/Dataset COVID 19/'"
      ]
    },
    {
      "cell_type": "code",
      "execution_count": null,
      "metadata": {
        "colab": {
          "base_uri": "https://localhost:8080/",
          "height": 266
        },
        "id": "GHb18Dc5yYd9",
        "outputId": "2aace7cf-ad05-4c2a-9e51-758162bf4423"
      },
      "outputs": [
        {
          "output_type": "display_data",
          "data": {
            "text/plain": [
              "<Figure size 432x288 with 1 Axes>"
            ],
            "image/png": "[encoded data removed]"
          },
          "metadata": {
            "needs_background": "light"
          }
        }
      ],
      "source": [
        "import os, time, datetime\n",
        "import numpy as np\n",
        "import cv2\n",
        "from skimage.io import imread, imsave\n",
        "import matplotlib.pyplot as plt\n",
        "from skimage.color import rgb2gray\n",
        "from os import listdir\n",
        "from sklearn.decomposition import PCA\n",
        "import warnings\n",
        "warnings.filterwarnings('ignore')\n",
        "pca = PCA(n_components=32)\n",
        "\n",
        "ImSize=32;\n",
        "dim=1;\n",
        "i=0\n",
        "x_train=[]\n",
        "y_train=[]\n",
        "\n",
        "for folder in os.listdir(path):\n",
        " \n",
        "  if(folder.endswith('.h5')):\n",
        "    continue;\n",
        "  i=i+1;\n",
        "  for  images in os.listdir(path+folder):\n",
        "    if images.endswith(\".jpg\") or images.endswith(\".bmp\") or images.endswith(\".png\") or images.endswith(\".jpeg\"):\n",
        "      Img = np.array(imread(path+folder+'/'+images))\n",
        "      Img = rgb2gray(Img)\n",
        "      Img=cv2.resize(Img, (ImSize, ImSize)) \n",
        "      plt.imshow(Img,cmap='gray') \n",
        "      Img = pca.fit_transform(Img);                  \n",
        "      x_train.append(Img)\n",
        "      y_train.append(i)\n",
        "            \n",
        "x_train=np.array(x_train)\n",
        "y_train=np.array(y_train)       "
      ]
    },
    {
      "cell_type": "code",
      "execution_count": null,
      "metadata": {
        "id": "1BKiQm2dHITo"
      },
      "outputs": [],
      "source": [
        "from keras.preprocessing.image import ImageDataGenerator\n",
        "from keras.utils.np_utils import to_categorical\n",
        "y_train1=y_train-1;\n",
        "trainX = x_train.reshape((x_train.shape[0], ImSize, ImSize, dim))\n",
        "trainY=to_categorical(y_train1)\n",
        "TrainX=trainX.astype('float32')"
      ]
    },
    {
      "cell_type": "code",
      "execution_count": null,
      "metadata": {
        "colab": {
          "base_uri": "https://localhost:8080/"
        },
        "id": "tMKrQ2z4UK0L",
        "outputId": "3a4ac9d2-9dc7-4313-e016-8bcfe91a3fb0"
      },
      "outputs": [
        {
          "output_type": "stream",
          "name": "stdout",
          "text": [
            "> 93.833\n"
          ]
        }
      ],
      "source": [
        "from numpy import mean\n",
        "from numpy import std\n",
        "from matplotlib import pyplot as plt\n",
        "from sklearn.model_selection import KFold\n",
        "from tensorflow.keras.datasets import mnist\n",
        "from tensorflow.keras.utils import to_categorical\n",
        "from tensorflow.keras.models import Sequential\n",
        "from tensorflow.keras.layers import Conv2D\n",
        "from tensorflow.keras.layers import MaxPooling2D\n",
        "from tensorflow.keras.layers import Dense\n",
        "from tensorflow.keras.layers import Flatten\n",
        "from tensorflow.keras.optimizers import SGD\n",
        "\n",
        "model = Sequential()\n",
        "model.add(Conv2D(32, (3, 3), activation='relu', kernel_initializer='he_uniform', input_shape=(ImSize, ImSize, dim)))\n",
        "model.add(MaxPooling2D((2, 2)))\n",
        "model.add(Flatten())\n",
        "model.add(Dense(100, activation='relu', kernel_initializer='he_uniform'))\n",
        "model.add(Dense(2, activation='softmax'))\n",
        "opt = SGD(learning_rate=0.001, momentum=0.9)\n",
        "model.compile(optimizer=opt, loss='categorical_crossentropy', metrics=['accuracy'])\n",
        "\n",
        "\n",
        "history = model.fit(trainX, trainY, epochs=55, batch_size=64, validation_data=(trainX, trainY), verbose=0)\n",
        "_, acc = model.evaluate(trainX, trainY, verbose=0)\n",
        "print('> %.3f' % (acc * 100.0))\n",
        "#model.save(path+'CNNModel.h5')\n",
        "\t "
      ]
    },
    {
      "cell_type": "code",
      "execution_count": null,
      "metadata": {
        "colab": {
          "base_uri": "https://localhost:8080/"
        },
        "id": "vI7dIG1KYARI",
        "outputId": "43a5f7fb-0be0-4ae4-81ae-c3a2ec32e423"
      },
      "outputs": [
        {
          "output_type": "stream",
          "name": "stdout",
          "text": [
            "Downloading data from https://storage.googleapis.com/tensorflow/keras-applications/vgg19/vgg19_weights_tf_dim_ordering_tf_kernels_notop.h5\n",
            "80142336/80134624 [==============================] - 1s 0us/step\n",
            "80150528/80134624 [==============================] - 1s 0us/step\n",
            "Model: \"model\"\n",
            "_________________________________________________________________\n",
            " Layer (type)                Output Shape              Param #   \n",
            "=================================================================\n",
            " input_2 (InputLayer)        [(None, 32, 32, 1)]       0         \n",
            "                                                                 \n",
            " conv2d_1 (Conv2D)           (None, 32, 32, 3)         30        \n",
            "                                                                 \n",
            " vgg19 (Functional)          (None, None, None, 512)   20024384  \n",
            "                                                                 \n",
            " global_average_pooling2d (G  (None, 512)              0         \n",
            " lobalAveragePooling2D)                                          \n",
            "                                                                 \n",
            " batch_normalization (BatchN  (None, 512)              2048      \n",
            " ormalization)                                                   \n",
            "                                                                 \n",
            " dropout (Dropout)           (None, 512)               0         \n",
            "                                                                 \n",
            " dense_2 (Dense)             (None, 256)               131328    \n",
            "                                                                 \n",
            " batch_normalization_1 (Batc  (None, 256)              1024      \n",
            " hNormalization)                                                 \n",
            "                                                                 \n",
            " dropout_1 (Dropout)         (None, 256)               0         \n",
            "                                                                 \n",
            " root (Dense)                (None, 2)                 514       \n",
            "                                                                 \n",
            "=================================================================\n",
            "Total params: 20,159,328\n",
            "Trainable params: 20,157,792\n",
            "Non-trainable params: 1,536\n",
            "_________________________________________________________________\n",
            "\n",
            "Epoch 1: val_loss improved from inf to 0.70575, saving model to VGG19.h5\n",
            "\n",
            "Epoch 2: val_loss did not improve from 0.70575\n",
            "\n",
            "Epoch 3: val_loss did not improve from 0.70575\n"
          ]
        }
      ],
      "source": [
        "EPOCHS = 3\n",
        "SIZE=ImSize\n",
        "N_ch=dim\n",
        "from tqdm import tqdm\n",
        "from sklearn.metrics import confusion_matrix\n",
        "from sklearn.model_selection import train_test_split\n",
        "from keras.utils.np_utils import to_categorical\n",
        "from keras.models import Model,Sequential, Input, load_model\n",
        "from keras.layers import Dense, Dropout, Flatten, Conv2D, MaxPool2D, BatchNormalization, AveragePooling2D, GlobalAveragePooling2D\n",
        "from tensorflow.keras.optimizers import Adam, SGD, RMSprop\n",
        "from keras.preprocessing.image import ImageDataGenerator\n",
        "from keras.callbacks import ModelCheckpoint, ReduceLROnPlateau\n",
        "from tensorflow.keras.applications import VGG19\n",
        "\n",
        "def build_vgg():\n",
        "    vgg = VGG19(weights='imagenet', include_top=False)\n",
        "    input = Input(shape=(SIZE, SIZE, N_ch))\n",
        "    x = Conv2D(3, (3, 3), padding='same')(input)    \n",
        "    x = vgg(x)    \n",
        "    x = GlobalAveragePooling2D()(x)\n",
        "    x = BatchNormalization()(x)\n",
        "    x = Dropout(0.5)(x)\n",
        "    x = Dense(256, activation='relu')(x)\n",
        "    x = BatchNormalization()(x)\n",
        "    x = Dropout(0.5)(x)\n",
        "    # multi output\n",
        "    output = Dense(2,activation = 'softmax', name='root')(x)\n",
        "    model = Model(input,output)    \n",
        "    optimizer = Adam(learning_rate=0.002, beta_1=0.9, beta_2=0.999, epsilon=0.1, decay=0.0)\n",
        "    model.compile(loss='categorical_crossentropy', optimizer=optimizer, metrics=['accuracy'])\n",
        "    model.summary()\n",
        "    \n",
        "    return model\n",
        "\n",
        "modelvgg = build_vgg()\n",
        "annealer = ReduceLROnPlateau(monitor='val_accuracy', factor=0.5, patience=5, verbose=1, min_lr=1e-3)\n",
        "checkpoint = ModelCheckpoint('VGG19.h5', verbose=1, save_best_only=True)\n",
        "datagen = ImageDataGenerator(rotation_range=360, # Degree range for random rotations\n",
        "                        width_shift_range=0.2, # Range for random horizontal shifts\n",
        "                        height_shift_range=0.2, # Range for random vertical shifts\n",
        "                        zoom_range=0.2, # Range for random zoom\n",
        "                        horizontal_flip=True, # Randomly flip inputs horizontally\n",
        "                        vertical_flip=True) \n",
        "\n",
        "datagen.fit(TrainX)\n",
        "BATCH_SIZE=64\n",
        "hist = modelvgg.fit(datagen.flow(TrainX, trainY, batch_size=BATCH_SIZE),\n",
        "               steps_per_epoch=TrainX.shape[0] // BATCH_SIZE,\n",
        "               epochs=EPOCHS,\n",
        "               verbose=0,\n",
        "               callbacks=[annealer, checkpoint],\n",
        "               validation_data=(TrainX, trainY))  \n",
        "  \n",
        "#modelvgg.save(path+'VggModel.h5')"
      ]
    },
    {
      "cell_type": "code",
      "execution_count": null,
      "metadata": {
        "colab": {
          "base_uri": "https://localhost:8080/"
        },
        "id": "FIwFnkDMaqQW",
        "outputId": "e2fa754a-f4f3-42d9-8a44-3e113bb6618b"
      },
      "outputs": [
        {
          "output_type": "stream",
          "name": "stdout",
          "text": [
            "Downloading data from https://storage.googleapis.com/tensorflow/keras-applications/resnet/resnet50_weights_tf_dim_ordering_tf_kernels_notop.h5\n",
            "94773248/94765736 [==============================] - 1s 0us/step\n",
            "94781440/94765736 [==============================] - 1s 0us/step\n",
            "Model: \"model_1\"\n",
            "_________________________________________________________________\n",
            " Layer (type)                Output Shape              Param #   \n",
            "=================================================================\n",
            " input_4 (InputLayer)        [(None, 32, 32, 1)]       0         \n",
            "                                                                 \n",
            " conv2d_2 (Conv2D)           (None, 32, 32, 3)         30        \n",
            "                                                                 \n",
            " resnet50 (Functional)       (None, None, None, 2048)  23587712  \n",
            "                                                                 \n",
            " global_average_pooling2d_1   (None, 2048)             0         \n",
            " (GlobalAveragePooling2D)                                        \n",
            "                                                                 \n",
            " batch_normalization_2 (Batc  (None, 2048)             8192      \n",
            " hNormalization)                                                 \n",
            "                                                                 \n",
            " dropout_2 (Dropout)         (None, 2048)              0         \n",
            "                                                                 \n",
            " dense_3 (Dense)             (None, 256)               524544    \n",
            "                                                                 \n",
            " batch_normalization_3 (Batc  (None, 256)              1024      \n",
            " hNormalization)                                                 \n",
            "                                                                 \n",
            " dropout_3 (Dropout)         (None, 256)               0         \n",
            "                                                                 \n",
            " root (Dense)                (None, 2)                 514       \n",
            "                                                                 \n",
            "=================================================================\n",
            "Total params: 24,122,016\n",
            "Trainable params: 24,064,288\n",
            "Non-trainable params: 57,728\n",
            "_________________________________________________________________\n",
            "Epoch 1/3\n",
            "38/38 [==============================] - ETA: 0s - loss: 1.2310 - accuracy: 0.5163\n",
            "Epoch 1: val_loss improved from inf to 1.22927, saving model to ResNet.h5\n",
            "38/38 [==============================] - 186s 5s/step - loss: 1.2310 - accuracy: 0.5163 - val_loss: 1.2293 - val_accuracy: 0.4954 - lr: 0.0030\n",
            "Epoch 2/3\n",
            "38/38 [==============================] - ETA: 0s - loss: 1.0800 - accuracy: 0.5130\n",
            "Epoch 2: val_loss did not improve from 1.22927\n",
            "38/38 [==============================] - 175s 5s/step - loss: 1.0800 - accuracy: 0.5130 - val_loss: 1.5852 - val_accuracy: 0.4954 - lr: 0.0030\n",
            "Epoch 3/3\n",
            "38/38 [==============================] - ETA: 0s - loss: 0.9946 - accuracy: 0.5031\n",
            "Epoch 3: val_loss improved from 1.22927 to 0.69408, saving model to ResNet.h5\n",
            "38/38 [==============================] - 174s 5s/step - loss: 0.9946 - accuracy: 0.5031 - val_loss: 0.6941 - val_accuracy: 0.5046 - lr: 0.0030\n"
          ]
        }
      ],
      "source": [
        "from keras.models import Model,Sequential, Input, load_model\n",
        "from keras.layers import Dense, Dropout, Flatten, Conv2D, MaxPool2D, BatchNormalization, AveragePooling2D, GlobalAveragePooling2D\n",
        "from tensorflow.keras.optimizers import Adam, SGD, RMSprop\n",
        "from keras.preprocessing.image import ImageDataGenerator\n",
        "from keras.callbacks import ModelCheckpoint, ReduceLROnPlateau\n",
        "from tensorflow.keras.applications.resnet50 import ResNet50\n",
        "from tensorflow.keras.preprocessing import image\n",
        "from tensorflow.keras.applications.resnet50 import preprocess_input, decode_predictions\n",
        "\n",
        "def build_resnet50():\n",
        "    resnet50 = ResNet50(weights='imagenet', include_top=False)\n",
        "    input = Input(shape=(SIZE, SIZE, N_ch))\n",
        "    x = Conv2D(3, (3, 3), padding='same')(input)    \n",
        "    x = resnet50(x)    \n",
        "    x = GlobalAveragePooling2D()(x)\n",
        "    x = BatchNormalization()(x)\n",
        "    x = Dropout(0.5)(x)\n",
        "    x = Dense(256, activation='relu')(x)\n",
        "    x = BatchNormalization()(x)\n",
        "    x = Dropout(0.5)(x)\n",
        "    output = Dense(2,activation = 'softmax', name='root')(x)\n",
        "    model = Model(input,output)    \n",
        "    optimizer = Adam(lr=0.003, beta_1=0.9, beta_2=0.999, epsilon=0.1, decay=0.0)\n",
        "    model.compile(loss='categorical_crossentropy', optimizer=optimizer, metrics=['accuracy'])\n",
        "    model.summary()\n",
        "    \n",
        "    return model\n",
        "\n",
        "\n",
        "modelres = build_resnet50()\n",
        "annealer = ReduceLROnPlateau(monitor='val_accuracy', factor=0.70, patience=5, verbose=1, min_lr=1e-4)\n",
        "checkpoint = ModelCheckpoint('ResNet.h5', verbose=1, save_best_only=True)\n",
        "datagen = ImageDataGenerator(rotation_range=360, # Degree range for random rotations\n",
        "                        width_shift_range=0.2, # Range for random horizontal shifts\n",
        "                        height_shift_range=0.2, # Range for random vertical shifts\n",
        "                        zoom_range=0.2, # Range for random zoom\n",
        "                        horizontal_flip=True, # Randomly flip inputs horizontally\n",
        "                        vertical_flip=True) # Randomly flip inputs vertically\n",
        "\n",
        "datagen.fit(TrainX)    \n",
        "hist = modelres.fit_generator(datagen.flow(TrainX, trainY, batch_size=BATCH_SIZE),\n",
        "               steps_per_epoch=TrainX.shape[0] // BATCH_SIZE,\n",
        "               epochs=EPOCHS,\n",
        "               verbose=1,\n",
        "               callbacks=[annealer, checkpoint],\n",
        "               validation_data=(TrainX, trainY))\n",
        "\n",
        "#modelres.save(path+'ResModel.h5')\n"
      ]
    },
    {
      "cell_type": "code",
      "source": [
        "from keras.models import Model,Sequential, Input, load_model\n",
        "from keras.layers import Dense, Dropout, Flatten, Conv2D, MaxPool2D, BatchNormalization, AveragePooling2D, GlobalAveragePooling2D\n",
        "from tensorflow.keras.optimizers import Adam, SGD, RMSprop\n",
        "from keras.preprocessing.image import ImageDataGenerator\n",
        "from keras.callbacks import ModelCheckpoint, ReduceLROnPlateau\n",
        "from tensorflow.keras.applications import DenseNet121\n",
        "from tensorflow.keras.preprocessing import image\n",
        "from tensorflow.keras.applications.densenet import preprocess_input, decode_predictions\n",
        "\n",
        "def build_densenet():\n",
        "    densenet = ResNet50(weights='imagenet', include_top=False)\n",
        "    input = Input(shape=(SIZE, SIZE, N_ch))\n",
        "    x = Conv2D(3, (3, 3), padding='same')(input)    \n",
        "    x = densenet(x)    \n",
        "    x = GlobalAveragePooling2D()(x)\n",
        "    x = BatchNormalization()(x)\n",
        "    x = Dropout(0.5)(x)\n",
        "    x = Dense(256, activation='relu')(x)\n",
        "    x = BatchNormalization()(x)\n",
        "    x = Dropout(0.5)(x)\n",
        "    output = Dense(2,activation = 'softmax', name='root')(x)\n",
        "    model = Model(input,output)    \n",
        "    optimizer = Adam(lr=0.003, beta_1=0.9, beta_2=0.999, epsilon=0.1, decay=0.0)\n",
        "    model.compile(loss='categorical_crossentropy', optimizer=optimizer, metrics=['accuracy'])\n",
        "    model.summary()\n",
        "    \n",
        "    return model\n",
        "\n",
        "\n",
        "modelres = build_densenet()\n",
        "annealer = ReduceLROnPlateau(monitor='val_accuracy', factor=0.70, patience=5, verbose=1, min_lr=1e-4)\n",
        "checkpoint = ModelCheckpoint('densenet.h5', verbose=1, save_best_only=True)\n",
        "datagen = ImageDataGenerator(rotation_range=360, # Degree range for random rotations\n",
        "                        width_shift_range=0.2, # Range for random horizontal shifts\n",
        "                        height_shift_range=0.2, # Range for random vertical shifts\n",
        "                        zoom_range=0.2, # Range for random zoom\n",
        "                        horizontal_flip=True, # Randomly flip inputs horizontally\n",
        "                        vertical_flip=True) # Randomly flip inputs vertically\n",
        "\n",
        "datagen.fit(TrainX)    \n",
        "hist = modelres.fit_generator(datagen.flow(TrainX, trainY, batch_size=BATCH_SIZE),\n",
        "               steps_per_epoch=TrainX.shape[0] // BATCH_SIZE,\n",
        "               epochs=EPOCHS,\n",
        "               verbose=1,\n",
        "               callbacks=[annealer, checkpoint],\n",
        "               validation_data=(TrainX, trainY))\n",
        "\n",
        "modelres.save(path+'DensenetModel.h5')"
      ],
      "metadata": {
        "colab": {
          "base_uri": "https://localhost:8080/"
        },
        "id": "MYMq6jMr-ot-",
        "outputId": "1d312fdd-ee2b-4df0-f251-beb95375a92d"
      },
      "execution_count": null,
      "outputs": [
        {
          "output_type": "stream",
          "name": "stdout",
          "text": [
            "Model: \"model_2\"\n",
            "_________________________________________________________________\n",
            " Layer (type)                Output Shape              Param #   \n",
            "=================================================================\n",
            " input_6 (InputLayer)        [(None, 32, 32, 1)]       0         \n",
            "                                                                 \n",
            " conv2d_3 (Conv2D)           (None, 32, 32, 3)         30        \n",
            "                                                                 \n",
            " resnet50 (Functional)       (None, None, None, 2048)  23587712  \n",
            "                                                                 \n",
            " global_average_pooling2d_2   (None, 2048)             0         \n",
            " (GlobalAveragePooling2D)                                        \n",
            "                                                                 \n",
            " batch_normalization_4 (Batc  (None, 2048)             8192      \n",
            " hNormalization)                                                 \n",
            "                                                                 \n",
            " dropout_4 (Dropout)         (None, 2048)              0         \n",
            "                                                                 \n",
            " dense_4 (Dense)             (None, 256)               524544    \n",
            "                                                                 \n",
            " batch_normalization_5 (Batc  (None, 256)              1024      \n",
            " hNormalization)                                                 \n",
            "                                                                 \n",
            " dropout_5 (Dropout)         (None, 256)               0         \n",
            "                                                                 \n",
            " root (Dense)                (None, 2)                 514       \n",
            "                                                                 \n",
            "=================================================================\n",
            "Total params: 24,122,016\n",
            "Trainable params: 24,064,288\n",
            "Non-trainable params: 57,728\n",
            "_________________________________________________________________\n",
            "Epoch 1/3\n",
            "38/38 [==============================] - ETA: 0s - loss: 1.1989 - accuracy: 0.5184\n",
            "Epoch 1: val_loss improved from inf to 0.75673, saving model to densenet.h5\n",
            "38/38 [==============================] - 187s 5s/step - loss: 1.1989 - accuracy: 0.5184 - val_loss: 0.7567 - val_accuracy: 0.4954 - lr: 0.0030\n",
            "Epoch 2/3\n",
            "38/38 [==============================] - ETA: 0s - loss: 1.1228 - accuracy: 0.5072\n",
            "Epoch 2: val_loss improved from 0.75673 to 0.70245, saving model to densenet.h5\n",
            "38/38 [==============================] - 178s 5s/step - loss: 1.1228 - accuracy: 0.5072 - val_loss: 0.7025 - val_accuracy: 0.4954 - lr: 0.0030\n",
            "Epoch 3/3\n",
            "38/38 [==============================] - ETA: 0s - loss: 0.9904 - accuracy: 0.5043\n",
            "Epoch 3: val_loss improved from 0.70245 to 0.69452, saving model to densenet.h5\n",
            "38/38 [==============================] - 174s 5s/step - loss: 0.9904 - accuracy: 0.5043 - val_loss: 0.6945 - val_accuracy: 0.4954 - lr: 0.0030\n"
          ]
        }
      ]
    },
    {
      "cell_type": "code",
      "source": [
        "from keras.models import Model,Sequential, Input, load_model\n",
        "from keras.layers import Dense, Dropout, Flatten, Conv2D, MaxPool2D, BatchNormalization, AveragePooling2D, GlobalAveragePooling2D\n",
        "from tensorflow.keras.optimizers import Adam, SGD, RMSprop\n",
        "from keras.preprocessing.image import ImageDataGenerator\n",
        "from keras.callbacks import ModelCheckpoint, ReduceLROnPlateau\n",
        "from tensorflow.keras.applications import ResNet101\n",
        "from tensorflow.keras.preprocessing import image\n",
        "from tensorflow.keras.applications.resnet import preprocess_input, decode_predictions\n",
        "\n",
        "def build_resnet101():\n",
        "    resnet101 = ResNet101(weights='imagenet', include_top=False)\n",
        "    input = Input(shape=(SIZE, SIZE, N_ch))\n",
        "    x = Conv2D(3, (3, 3), padding='same')(input)    \n",
        "    x = resnet101(x)    \n",
        "    x = GlobalAveragePooling2D()(x)\n",
        "    x = BatchNormalization()(x)\n",
        "    x = Dropout(0.5)(x)\n",
        "    x = Dense(256, activation='relu')(x)\n",
        "    x = BatchNormalization()(x)\n",
        "    x = Dropout(0.5)(x)\n",
        "    output = Dense(2,activation = 'softmax', name='root')(x)\n",
        "    model = Model(input,output)    \n",
        "    optimizer = Adam(lr=0.003, beta_1=0.9, beta_2=0.999, epsilon=0.1, decay=0.0)\n",
        "    model.compile(loss='categorical_crossentropy', optimizer=optimizer, metrics=['accuracy'])\n",
        "    model.summary()\n",
        "    \n",
        "    return model\n",
        "\n",
        "\n",
        "modelres = build_resnet101()\n",
        "annealer = ReduceLROnPlateau(monitor='val_accuracy', factor=0.70, patience=5, verbose=1, min_lr=1e-4)\n",
        "checkpoint = ModelCheckpoint('resnet101.h5', verbose=1, save_best_only=True)\n",
        "datagen = ImageDataGenerator(rotation_range=360, # Degree range for random rotations\n",
        "                        width_shift_range=0.2, # Range for random horizontal shifts\n",
        "                        height_shift_range=0.2, # Range for random vertical shifts\n",
        "                        zoom_range=0.2, # Range for random zoom\n",
        "                        horizontal_flip=True, # Randomly flip inputs horizontally\n",
        "                        vertical_flip=True) # Randomly flip inputs vertically\n",
        "\n",
        "datagen.fit(TrainX)    \n",
        "hist = modelres.fit_generator(datagen.flow(TrainX, trainY, batch_size=BATCH_SIZE),\n",
        "               steps_per_epoch=TrainX.shape[0] // BATCH_SIZE,\n",
        "               epochs=EPOCHS,\n",
        "               verbose=1,\n",
        "               callbacks=[annealer, checkpoint],\n",
        "               validation_data=(TrainX, trainY))\n",
        "\n",
        "#modelres.save(path+'resModel101.h5')"
      ],
      "metadata": {
        "id": "TxbAUCWxATKB",
        "colab": {
          "base_uri": "https://localhost:8080/"
        },
        "outputId": "6744c528-9654-4f8b-e969-fb3868427800"
      },
      "execution_count": null,
      "outputs": [
        {
          "output_type": "stream",
          "name": "stdout",
          "text": [
            "Downloading data from https://storage.googleapis.com/tensorflow/keras-applications/resnet/resnet101_weights_tf_dim_ordering_tf_kernels_notop.h5\n",
            "171450368/171446536 [==============================] - 1s 0us/step\n",
            "171458560/171446536 [==============================] - 1s 0us/step\n",
            "Model: \"model_3\"\n",
            "_________________________________________________________________\n",
            " Layer (type)                Output Shape              Param #   \n",
            "=================================================================\n",
            " input_8 (InputLayer)        [(None, 32, 32, 1)]       0         \n",
            "                                                                 \n",
            " conv2d_4 (Conv2D)           (None, 32, 32, 3)         30        \n",
            "                                                                 \n",
            " resnet101 (Functional)      (None, None, None, 2048)  42658176  \n",
            "                                                                 \n",
            " global_average_pooling2d_3   (None, 2048)             0         \n",
            " (GlobalAveragePooling2D)                                        \n",
            "                                                                 \n",
            " batch_normalization_6 (Batc  (None, 2048)             8192      \n",
            " hNormalization)                                                 \n",
            "                                                                 \n",
            " dropout_6 (Dropout)         (None, 2048)              0         \n",
            "                                                                 \n",
            " dense_5 (Dense)             (None, 256)               524544    \n",
            "                                                                 \n",
            " batch_normalization_7 (Batc  (None, 256)              1024      \n",
            " hNormalization)                                                 \n",
            "                                                                 \n",
            " dropout_7 (Dropout)         (None, 256)               0         \n",
            "                                                                 \n",
            " root (Dense)                (None, 2)                 514       \n",
            "                                                                 \n",
            "=================================================================\n",
            "Total params: 43,192,480\n",
            "Trainable params: 43,082,528\n",
            "Non-trainable params: 109,952\n",
            "_________________________________________________________________\n",
            "Epoch 1/3\n",
            "38/38 [==============================] - ETA: 0s - loss: 1.2488 - accuracy: 0.4928\n",
            "Epoch 1: val_loss improved from inf to 3.04248, saving model to resnet101.h5\n",
            "38/38 [==============================] - 326s 8s/step - loss: 1.2488 - accuracy: 0.4928 - val_loss: 3.0425 - val_accuracy: 0.5046 - lr: 0.0030\n",
            "Epoch 2/3\n",
            "38/38 [==============================] - ETA: 0s - loss: 1.1054 - accuracy: 0.5201\n",
            "Epoch 2: val_loss improved from 3.04248 to 1.01839, saving model to resnet101.h5\n",
            "38/38 [==============================] - 301s 8s/step - loss: 1.1054 - accuracy: 0.5201 - val_loss: 1.0184 - val_accuracy: 0.5046 - lr: 0.0030\n",
            "Epoch 3/3\n",
            "38/38 [==============================] - ETA: 0s - loss: 0.9637 - accuracy: 0.5110\n",
            "Epoch 3: val_loss improved from 1.01839 to 0.74369, saving model to resnet101.h5\n",
            "38/38 [==============================] - 304s 8s/step - loss: 0.9637 - accuracy: 0.5110 - val_loss: 0.7437 - val_accuracy: 0.4954 - lr: 0.0030\n"
          ]
        }
      ]
    },
    {
      "cell_type": "code",
      "execution_count": null,
      "metadata": {
        "id": "fyRLIKUNaaWM"
      },
      "outputs": [],
      "source": [
        "from keras.models import load_model\n",
        "\n",
        "model1 = load_model(path+'CNNModel.h5')\n",
        "model2 = load_model(path+'ResModel.h5')\n",
        "model3 = load_model(path+'VggModel.h5')\n",
        "model4 = load_model(path+'DensenetModel.h5')\n",
        "model5 = load_model(path+'resModel101.h5')\n",
        "# Horizontal Voting Concept and \n",
        "EnsembleModel = list()\n",
        "EnsembleModel.append(model1)\n",
        "EnsembleModel.append(model2)\n",
        "EnsembleModel.append(model3)\n",
        "EnsembleModel.append(model4)\n",
        "EnsembleModel.append(model5)\n",
        "from sklearn import metrics\n",
        "Y_true = np.argmax(trainY, axis=1)\n",
        "Ref=0;\n",
        "final_model=[];\n",
        "for ln in EnsembleModel:\n",
        "  EY_pred = ln.predict(TrainX)\n",
        "  EY_pred = np.argmax(EY_pred, axis=1)\n",
        "  GenAcc=metrics.accuracy_score(EY_pred,Y_true)\n",
        "  if GenAcc>Ref:\n",
        "    Ref=GenAcc\n",
        "    final_model=ln\n"
      ]
    },
    {
      "cell_type": "code",
      "source": [
        "import seaborn as sns\n",
        "import matplotlib.pyplot as plt\n",
        "import pandas as pd\n",
        "from keras.models import load_model\n",
        "from sklearn import metrics\n",
        "\n",
        "Y_true = np.argmax(trainY, axis=1)\n",
        "fY_pred = final_model.predict(TrainX)\n",
        "fY_pred = np.argmax(fY_pred, axis=1)\n",
        "\n",
        "ACC=metrics.accuracy_score(fY_pred,Y_true)*100\n",
        "P=metrics.precision_score(fY_pred,Y_true,average='macro')*100\n",
        "R=metrics.recall_score(fY_pred,Y_true,average='macro')*100\n",
        "F1=metrics.f1_score(fY_pred,Y_true)*100\n",
        "\n",
        "\n",
        "plotdata1 = pd.DataFrame({\n",
        "    \"Proposed(5-clf)\":[93.33, 93.60, 92.97, 93.21],    \n",
        "    \"DL+Ensemble\":[ACC,P,R,F1]},\n",
        "    index=[\"Accuracy\", \"Precision\", \"Recall\",\"FScore\"])\n",
        "plotdata1.plot(kind=\"bar\",figsize=(15, 8))\n",
        "plt.title(\"Comparsion of Performance Parameter\")\n",
        "plt.xlabel(\"Performance Parameter\")\n",
        "plt.ylabel(\"Percenetage(%)\")\n",
        "plt.xticks(rotation=45)\n",
        "\n",
        "\n",
        "plotdata = pd.DataFrame({\n",
        "    \"Proposed(8-clf)\":[93.33, 93.17, 93.54, 93.29],    \n",
        "    \"DL+Ensemble\":[ACC,P,R,F1]},\n",
        "    index=[\"Accuracy\", \"Precision\", \"Recall\", \"FScore\"])\n",
        "plotdata.plot(kind=\"bar\",figsize=(15, 8))\n",
        "plt.title(\"Comparsion of Performance Parameter\")\n",
        "plt.xlabel(\"Performance Parameter\")\n",
        "plt.ylabel(\"Percenetage(%)\")\n",
        "plt.xticks(rotation=45)\n",
        "\n",
        "\n",
        "plotdata = pd.DataFrame({\n",
        "    \"Proposed(5-clf)\":[93.33, 93.60, 92.97, 93.21 ],\n",
        "    \"Proposed(8-clf)\":[93.33, 93.17, 93.54, 93.29 ],\n",
        "    \"DL+Ensemble\":[ACC,P,R,F1]},\n",
        "    index=[\"Accuracy\", \"Precision\", \"Recall\", \"FScore\"])\n",
        "plotdata.plot(kind=\"bar\",figsize=(15, 8))\n",
        "plt.title(\"Comparsion of Performance Parameter\")\n",
        "plt.xlabel(\"Performance Parameter\")\n",
        "plt.ylabel(\"Percenetage(%)\")\n",
        "plt.xticks(rotation=45)"
      ],
      "metadata": {
        "id": "q1qOoWd8C2QK",
        "colab": {
          "base_uri": "https://localhost:8080/",
          "height": 1000
        },
        "outputId": "e7403bd8-bd60-4606-f633-86f572ba7ff7"
      },
      "execution_count": null,
      "outputs": [
        {
          "output_type": "execute_result",
          "data": {
            "text/plain": [
              "(array([0, 1, 2, 3]), <a list of 4 Text major ticklabel objects>)"
            ]
          },
          "metadata": {},
          "execution_count": 19
        },
        {
          "output_type": "display_data",
          "data": {
            "text/plain": [
              "<Figure size 1080x576 with 1 Axes>"
            ],
            "image/png": "[encoded data removed]"
          },
          "metadata": {
            "needs_background": "light"
          }
        },
        {
          "output_type": "display_data",
          "data": {
            "text/plain": [
              "<Figure size 1080x576 with 1 Axes>"
            ],
            "image/png": "[encoded data removed]"
          },
          "metadata": {
            "needs_background": "light"
          }
        },
        {
          "output_type": "display_data",
          "data": {
            "text/plain": [
              "<Figure size 1080x576 with 1 Axes>"
            ],
            "image/png": "[encoded data removed]"
          },
          "metadata": {
            "needs_background": "light"
          }
        }
      ]
    },
    {
      "cell_type": "code",
      "source": [
        "print(plotdata)"
      ],
      "metadata": {
        "colab": {
          "base_uri": "https://localhost:8080/"
        },
        "id": "CxGC1y_wC702",
        "outputId": "107b79bf-c915-42d0-daf9-fe57104eb738"
      },
      "execution_count": null,
      "outputs": [
        {
          "output_type": "stream",
          "name": "stdout",
          "text": [
            "           Proposed(5-clf)  Proposed(8-clf)  DL+Ensemble\n",
            "Accuracy             93.33            93.33    95.687223\n",
            "Precision            93.60            93.17    95.713384\n",
            "Recall               92.97            93.54    95.814857\n",
            "FScore               93.21            93.29    95.769079\n"
          ]
        }
      ]
    },
    {
      "cell_type": "code",
      "execution_count": null,
      "metadata": {
        "colab": {
          "base_uri": "https://localhost:8080/",
          "height": 560
        },
        "id": "OOPpU4j6a2rK",
        "outputId": "29a3e5c9-d3f4-4f9b-8d50-8503dfc957b2"
      },
      "outputs": [
        {
          "output_type": "execute_result",
          "data": {
            "text/plain": [
              "(array([0, 1, 2, 3]), <a list of 4 Text major ticklabel objects>)"
            ]
          },
          "metadata": {},
          "execution_count": 21
        },
        {
          "output_type": "display_data",
          "data": {
            "text/plain": [
              "<Figure size 1080x576 with 1 Axes>"
            ],
            "image/png": "[encoded data removed]"
          },
          "metadata": {
            "needs_background": "light"
          }
        }
      ],
      "source": [
        "plotdata2 = pd.DataFrame({\n",
        "    \"Max Voting\":[91.33, 91.29, 91.16, 91.22],\n",
        "    \"Bagging (Random Forest)\":[ 87.33, 87.84, 86.83, 87.08],\n",
        "    \"Boosting (Gradient Boosting)\":[84.67, 88.34, 82.98, 83.67],\n",
        "    \"DL+Ensemble\":[ACC,P,R,F1]},\n",
        "    index=[\"Accuracy\", \"Precision\", \"Recall\", \"FScore\"])\n",
        "plotdata2.plot(kind=\"bar\",figsize=(15, 8))\n",
        "plt.title(\"Comparsion of Performance Parameter\")\n",
        "plt.xlabel(\"Performance Parameter\")\n",
        "plt.ylabel(\"Percenetage(%)\")\n",
        "plt.xticks(rotation=45)"
      ]
    },
    {
      "cell_type": "code",
      "execution_count": null,
      "metadata": {
        "colab": {
          "base_uri": "https://localhost:8080/"
        },
        "id": "pUH_fYx6b8hF",
        "outputId": "018c1128-0416-485d-8463-607197807623"
      },
      "outputs": [
        {
          "output_type": "stream",
          "name": "stdout",
          "text": [
            "           Max Voting  Bagging (Random Forest)  Boosting (Gradient Boosting)  \\\n",
            "Accuracy        91.33                    87.33                         84.67   \n",
            "Precision       91.29                    87.84                         88.34   \n",
            "Recall          91.16                    86.83                         82.98   \n",
            "FScore          91.22                    87.08                         83.67   \n",
            "\n",
            "           DL+Ensemble  \n",
            "Accuracy     95.687223  \n",
            "Precision    95.713384  \n",
            "Recall       95.814857  \n",
            "FScore       95.769079  \n"
          ]
        }
      ],
      "source": [
        "print(plotdata2)"
      ]
    },
    {
      "cell_type": "code",
      "execution_count": null,
      "metadata": {
        "colab": {
          "base_uri": "https://localhost:8080/",
          "height": 280
        },
        "id": "w_h2olXPez0h",
        "outputId": "90f1389f-8751-40fc-8ea0-dbf1f39eb17a"
      },
      "outputs": [
        {
          "output_type": "execute_result",
          "data": {
            "text/plain": [
              "Text(0.5, 34.43999999999998, 'Predicted')"
            ]
          },
          "metadata": {},
          "execution_count": 23
        },
        {
          "output_type": "display_data",
          "data": {
            "text/plain": [
              "<Figure size 288x288 with 2 Axes>"
            ],
            "image/png": "[encoded data removed]"
          },
          "metadata": {
            "needs_background": "light"
          }
        }
      ],
      "source": [
        "disease_types=['COVID', 'non-COVID']\n",
        "from sklearn.metrics import confusion_matrix\n",
        "\n",
        "cm = confusion_matrix(Y_true, fY_pred)\n",
        "plt.figure(figsize=(4, 4))\n",
        "ax = sns.heatmap(cm, cmap=plt.cm.Greens, annot=True, square=True, xticklabels=disease_types, yticklabels=disease_types)\n",
        "ax.set_ylabel('Actual', fontsize=10)\n",
        "ax.set_xlabel('Predicted', fontsize=10)"
      ]
    },
    {
      "cell_type": "code",
      "source": [
        ""
      ],
      "metadata": {
        "id": "7bBOWowTRmRe"
      },
      "execution_count": null,
      "outputs": []
    }
  ],
  "metadata": {
    "colab": {
      "collapsed_sections": [],
      "name": "Final_2_Table_2_1Table1_PransathCOVID19UP.ipynb",
      "provenance": []
    },
    "kernelspec": {
      "display_name": "Python 3",
      "name": "python3"
    },
    "language_info": {
      "name": "python"
    }
  },
  "nbformat": 4,
  "nbformat_minor": 0
}